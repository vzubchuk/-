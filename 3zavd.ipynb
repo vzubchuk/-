{
 "cells": [
  {
   "cell_type": "code",
   "execution_count": 1,
   "id": "7477b931-0ca3-4091-b5a1-5230ea12ee06",
   "metadata": {},
   "outputs": [
    {
     "name": "stdout",
     "output_type": "stream",
     "text": [
      "Found segment:  [-4, -3]\n",
      "Found segment:  [0, 1]\n"
     ]
    },
    {
     "ename": "NameError",
     "evalue": "name 'a1' is not defined",
     "output_type": "error",
     "traceback": [
      "\u001b[1;31m---------------------------------------------------------------------------\u001b[0m",
      "\u001b[1;31mNameError\u001b[0m                                 Traceback (most recent call last)",
      "Cell \u001b[1;32mIn[1], line 41\u001b[0m\n\u001b[0;32m     39\u001b[0m a\u001b[38;5;241m=\u001b[39m\u001b[38;5;241m0.\u001b[39m \u001b[38;5;66;03m#початок першого відрізка\u001b[39;00m\n\u001b[0;32m     40\u001b[0m b\u001b[38;5;241m=\u001b[39m\u001b[38;5;241m1.\u001b[39m \u001b[38;5;66;03m# кінець першого відрізка\u001b[39;00m\n\u001b[1;32m---> 41\u001b[0m rec (\u001b[43ma1\u001b[49m,b1,eps) \n",
      "\u001b[1;31mNameError\u001b[0m: name 'a1' is not defined"
     ]
    }
   ],
   "source": [
    "import math\n",
    "import numpy as np\n",
    "from scipy.misc import derivative\n",
    "def f(x):\n",
    "   return pow(x, 4) + 2*pow(x,3) - 2*pow(x, 2)  + 6*x - 5\n",
    "eps=0.0001\n",
    "\n",
    "def find_segments(): #відокремлюємо корені\n",
    "    search_range = np.arange(-10, 10, 1)\n",
    "    \n",
    "    a = None\n",
    "    previous_x = None\n",
    "    current_x  = None\n",
    "    segments = []\n",
    "\n",
    "    for x in search_range:\n",
    "        x = round(x, 4)\n",
    "        current_x = f(x)\n",
    "        if previous_x != None and previous_x * current_x < 0:\n",
    "            segments.append((a, x))\n",
    "        a = x\n",
    "        previous_x = current_x\n",
    "    return segments\n",
    "\n",
    "segments = find_segments()\n",
    "for a, b in segments:\n",
    "    print(f'Found segment:  [{a}, {b}]')\n",
    "def rec(a, b, eps): #метод половинного ділення\n",
    "    while (abs(a-b) > eps):\n",
    "        if f(a)*f((a+b)/2)<0: \n",
    "            b = (a+b)/2 \n",
    "        else: \n",
    "            a = (a+b)/2\n",
    "        x = (a+b)/2\n",
    "    \n",
    "    print ('x= ', round(x,5), '  -   Half division method')\n",
    "\n",
    "\n",
    "a=0. #початок першого відрізка\n",
    "b=1. # кінець першого відрізка\n",
    "rec (a1,b1,eps) "
   ]
  },
  {
   "cell_type": "code",
   "execution_count": null,
   "id": "6cabcd5c-74a5-48f3-b301-19fd6da98e8b",
   "metadata": {},
   "outputs": [],
   "source": []
  }
 ],
 "metadata": {
  "kernelspec": {
   "display_name": "Python 3 (ipykernel)",
   "language": "python",
   "name": "python3"
  },
  "language_info": {
   "codemirror_mode": {
    "name": "ipython",
    "version": 3
   },
   "file_extension": ".py",
   "mimetype": "text/x-python",
   "name": "python",
   "nbconvert_exporter": "python",
   "pygments_lexer": "ipython3",
   "version": "3.11.5"
  }
 },
 "nbformat": 4,
 "nbformat_minor": 5
}
