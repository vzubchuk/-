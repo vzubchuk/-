{
 "cells": [
  {
   "cell_type": "code",
   "execution_count": 1,
   "id": "cfa36bd4-8821-46aa-98d0-edfab0c7b8d2",
   "metadata": {},
   "outputs": [
    {
     "name": "stdout",
     "output_type": "stream",
     "text": [
      "Found segment:  [-2, -1]\n",
      "Found segment:  [0, 1]\n",
      "x=  0.93127   -   Chord method\n"
     ]
    },
    {
     "name": "stderr",
     "output_type": "stream",
     "text": [
      "C:\\Users\\shmos\\AppData\\Local\\Temp\\ipykernel_29756\\2429494993.py:29: DeprecationWarning: scipy.misc.derivative is deprecated in SciPy v1.10.0; and will be completely removed in SciPy v1.12.0. You may consider using findiff: https://github.com/maroba/findiff or numdifftools: https://github.com/pbrod/numdifftools\n",
      "  if (f(a)*derivative(f,a,n=2)>0):\n"
     ]
    }
   ],
   "source": [
    "import math\n",
    "import numpy as np\n",
    "from scipy.misc import derivative\n",
    "def f(x):\n",
    "   return pow(x, 4) + 2*pow(x,3) - 2*pow(x, 2)  + 6*x - 5\n",
    "eps=0.0001\n",
    "\n",
    "def find_segments(): #відокремлюємо корені\n",
    "    search_range = np.arange(-10, 10, 1)\n",
    "    \n",
    "    a = None\n",
    "    previous_x = None\n",
    "    current_x  = None\n",
    "    segments = []\n",
    "\n",
    "    for x in search_range:\n",
    "        x = round(x, 4)\n",
    "        current_x = f(x)\n",
    "        if previous_x != None and previous_x * current_x < 0:\n",
    "            segments.append((a, x))\n",
    "        a = x\n",
    "        previous_x = current_x\n",
    "    return segments\n",
    "\n",
    "segments = find_segments()\n",
    "for a, b in segments:\n",
    "    print(f'Found segment:  [{a}, {b}]')\n",
    "def hord (a,b,eps): #метод хорд\n",
    "    if (f(a)*derivative(f,a,n=2)>0):\n",
    "        x0=a\n",
    "        xi=b\n",
    "    else:\n",
    "        x0=b\n",
    "        xi=a\n",
    "    xi_1=xi-(xi-x0)*f(xi)/(f(xi)-f(x0))\n",
    "    while (abs(xi_1-xi)>eps):\n",
    "        xi=xi_1\n",
    "        xi_1=xi-(xi-x0)*f(xi)/(f(xi)-f(x0))\n",
    "    print('x= ', round (xi_1,5) , '  -   Chord method')\n",
    "\n",
    "a=0. #початок першого відрізка\n",
    "b=1. # кінець першого відрізка\n",
    "hord (a,b,eps) #викликаємо метод хорд для першого відрізка"
   ]
  },
  {
   "cell_type": "code",
   "execution_count": null,
   "id": "cc2990b4-7c31-43a8-a7d2-6cf02a654401",
   "metadata": {},
   "outputs": [],
   "source": []
  }
 ],
 "metadata": {
  "kernelspec": {
   "display_name": "Python 3 (ipykernel)",
   "language": "python",
   "name": "python3"
  },
  "language_info": {
   "codemirror_mode": {
    "name": "ipython",
    "version": 3
   },
   "file_extension": ".py",
   "mimetype": "text/x-python",
   "name": "python",
   "nbconvert_exporter": "python",
   "pygments_lexer": "ipython3",
   "version": "3.11.5"
  }
 },
 "nbformat": 4,
 "nbformat_minor": 5
}
