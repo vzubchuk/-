{
 "cells": [
  {
   "cell_type": "code",
   "execution_count": 1,
   "id": "4b910d5d-b744-4330-ac19-9cbec5689a41",
   "metadata": {},
   "outputs": [
    {
     "name": "stdout",
     "output_type": "stream",
     "text": [
      "Found segment:  [-4, -3]\n",
      "Found segment:  [0, 1]\n"
     ]
    }
   ],
   "source": [
    "import math\n",
    "import numpy as np\n",
    "from scipy.misc import derivative\n",
    "def f(x):\n",
    "   return pow(x, 4) + 2*pow(x,3) - 2*pow(x, 2)  + 6*x - 5\n",
    "eps=0.0001\n",
    "\n",
    "def find_segments(): #відокремлюємо корені\n",
    "    search_range = np.arange(-10, 10, 1)\n",
    "    \n",
    "    a = None\n",
    "    previous_x = None\n",
    "    current_x  = None\n",
    "    segments = []\n",
    "\n",
    "    for x in search_range:\n",
    "        x = round(x, 4)\n",
    "        current_x = f(x)\n",
    "        if previous_x != None and previous_x * current_x < 0:\n",
    "            segments.append((a, x))\n",
    "        a = x\n",
    "        previous_x = current_x\n",
    "    return segments\n",
    "\n",
    "segments = find_segments()\n",
    "for a, b in segments:\n",
    "    print(f'Found segment:  [{a}, {b}]')\n",
    "def hord (a,b,eps): #метод хорд\n",
    "    if (f(a)*derivative(f,a,n=2)>0):\n",
    "        x0=a\n",
    "        xi=b\n",
    "    else:\n",
    "        x0=b\n",
    "        xi=a\n",
    "    xi_1=xi-(xi-x0)*f(xi)/(f(xi)-f(x0))\n",
    "    while (abs(xi_1-xi)>eps):\n",
    "        xi=xi_1\n",
    "        xi_1=xi-(xi-x0)*f(xi)/(f(xi)-f(x0))\n",
    "    print('x= ', round (xi_1,5) , '  -   Chord method')\n",
    "\n",
    "a=0. #початок першого відрізка\n",
    "b=1. # кінець першого відрізка\n"
   ]
  },
  {
   "cell_type": "code",
   "execution_count": null,
   "id": "3bffee79-fdd3-4eba-a4fc-ad99846771c3",
   "metadata": {},
   "outputs": [],
   "source": []
  },
  {
   "cell_type": "code",
   "execution_count": null,
   "id": "794d63c8-6958-42bd-b26b-ac5cf966df47",
   "metadata": {},
   "outputs": [],
   "source": []
  }
 ],
 "metadata": {
  "kernelspec": {
   "display_name": "Python 3 (ipykernel)",
   "language": "python",
   "name": "python3"
  },
  "language_info": {
   "codemirror_mode": {
    "name": "ipython",
    "version": 3
   },
   "file_extension": ".py",
   "mimetype": "text/x-python",
   "name": "python",
   "nbconvert_exporter": "python",
   "pygments_lexer": "ipython3",
   "version": "3.11.5"
  }
 },
 "nbformat": 4,
 "nbformat_minor": 5
}
