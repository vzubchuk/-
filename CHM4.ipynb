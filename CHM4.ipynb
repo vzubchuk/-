{
 "cells": [
  {
   "cell_type": "code",
   "execution_count": 3,
   "id": "31e47b18-7087-4c3b-b5aa-270f41ce7a33",
   "metadata": {},
   "outputs": [
    {
     "name": "stdout",
     "output_type": "stream",
     "text": [
      "[[-6 -4]\n",
      " [-8 -2]]\n"
     ]
    }
   ],
   "source": [
    "import numpy as np \n",
    "a_arr = np.array([[1, 2], [4, -1]])\n",
    "b_arr = np.array([[-3, 2], [-4, 1]])\n",
    "c = b_arr.dot(a_arr) + a_arr.dot(b_arr) \n",
    "print(c)"
   ]
  },
  {
   "cell_type": "code",
   "execution_count": 4,
   "id": "22a909c8-dd4e-4812-834f-a9ab81e0bdd4",
   "metadata": {},
   "outputs": [
    {
     "name": "stdout",
     "output_type": "stream",
     "text": [
      "[[1 0]\n",
      " [0 1]]\n"
     ]
    }
   ],
   "source": [
    "import numpy as np \n",
    "arr = np.array([[-1, 2], [0, 1],])\n",
    "power= np.dot(arr,arr)\n",
    "print(power) \n"
   ]
  },
  {
   "cell_type": "code",
   "execution_count": 5,
   "id": "e7a4855b-1799-4c93-86ed-c31cd887851a",
   "metadata": {},
   "outputs": [
    {
     "name": "stdout",
     "output_type": "stream",
     "text": [
      "[[-9 13]\n",
      " [15  4]]\n"
     ]
    }
   ],
   "source": [
    "matrix_1 = np.array([[3, 5], [6, -1]])\n",
    "matrix_2 = np.array([[2, 1], [-3, 2]])\n",
    "matrix_3 = matrix_1.dot(matrix_2)\n",
    "print(matrix_3)\n"
   ]
  },
  {
   "cell_type": "code",
   "execution_count": 6,
   "id": "a4ac6669-8db9-483f-a50c-74108b2e6cd8",
   "metadata": {},
   "outputs": [
    {
     "name": "stdout",
     "output_type": "stream",
     "text": [
      "35\n"
     ]
    }
   ],
   "source": [
    "import numpy as np \n",
    "arr_a = np.array([[2, 3, 4], [1, 0, 6], [7, 8, 9]])\n",
    "a_det = np.linalg.det(arr_a)\n",
    "print(format(a_det,'.9g'))\n"
   ]
  },
  {
   "cell_type": "code",
   "execution_count": 10,
   "id": "19bbced9-51a1-4383-8b42-ec77d07d8ead",
   "metadata": {},
   "outputs": [
    {
     "name": "stdout",
     "output_type": "stream",
     "text": [
      "900\n"
     ]
    }
   ],
   "source": [
    "import numpy as np \n",
    "a_arr = np.array([[1, 2, 3,4], [-2, 1, -4, 3], [3,-4,-1, 2,], [4, 3, -2, -1]])\n",
    "a_det = np.linalg.det(a_arr)\n",
    "print(format(a_det,'.9g'))\n"
   ]
  },
  {
   "cell_type": "code",
   "execution_count": 11,
   "id": "f790529a-4aee-41a3-a74b-b3ab7899ef8b",
   "metadata": {},
   "outputs": [
    {
     "name": "stdout",
     "output_type": "stream",
     "text": [
      "[[  1.  -1.   1.]\n",
      " [-38.  41. -34.]\n",
      " [ 27. -29.  24.]]\n"
     ]
    }
   ],
   "source": [
    "a = np.array([[2, 5, 7], [6, 3, 4], [5, -2, -3]])\n",
    "a_inv = np.linalg.inv(a) \n",
    "print(a_inv)\n"
   ]
  },
  {
   "cell_type": "code",
   "execution_count": 12,
   "id": "9e1ba660-a677-4c50-8b8a-c0eaaf3e4129",
   "metadata": {},
   "outputs": [
    {
     "name": "stdout",
     "output_type": "stream",
     "text": [
      "3\n"
     ]
    }
   ],
   "source": [
    "aa = np.array([[1, -1, 3,4], [0, -1, 2, 1], [1, 1, -1, 2], [2, 3, -5, 3]])\n",
    "rank = np.linalg.matrix_rank(aa) \n",
    "print(rank) "
   ]
  },
  {
   "cell_type": "code",
   "execution_count": 13,
   "id": "f1e8cf4d-e16d-4df7-8f9a-9a50d779326c",
   "metadata": {},
   "outputs": [
    {
     "name": "stdout",
     "output_type": "stream",
     "text": [
      "A= [[ 3 -5  3]\n",
      " [ 1  2  1]\n",
      " [ 2  7 -1]]\n",
      "B= [[1]\n",
      " [4]\n",
      " [8]]\n",
      "[[ 0.27272727 -0.48484848  0.33333333]\n",
      " [-0.09090909  0.27272727  0.        ]\n",
      " [-0.09090909  0.93939394 -0.33333333]]\n",
      "X= [[1.]\n",
      " [1.]\n",
      " [1.]]\n"
     ]
    }
   ],
   "source": [
    "A = np.matrix('3 -5 3; 1 2 1; 2 7 -1')\n",
    "B = np.matrix('1; 4; 8')\n",
    "print('A=', A)\n",
    "print('B=',B)\n",
    "A_inv = np.linalg.inv(A)\n",
    "print(A_inv)\n",
    "X = A_inv.dot(B)\n",
    "print('X=',X)\n"
   ]
  },
  {
   "cell_type": "code",
   "execution_count": 14,
   "id": "3c9563e7-2892-430a-b5e2-285c0255255f",
   "metadata": {},
   "outputs": [
    {
     "name": "stdout",
     "output_type": "stream",
     "text": [
      "Solving a system of linear algebraic equations by Cramer*s method\n",
      "x= 1.0 y= 1.0 z= 1.0\n",
      "Checking the correctness of the solution\n",
      " [[1.]\n",
      " [1.]\n",
      " [1.]]\n"
     ]
    }
   ],
   "source": [
    "a = np.matrix('3 -5 3; 1 2 1; 2 7 -1') \n",
    "b = np.matrix('1; 4; 8') \n",
    "def kram(a,b): \n",
    "    det_a = np.linalg.det(a) \n",
    "    if det_a != 0: \n",
    "       a1 = np.matrix(a) \n",
    "       a2 = np.matrix(a) \n",
    "       a3 = np.matrix(a) \n",
    "       a1[:, 0] = b \n",
    "       a2[:, 1] = b \n",
    "       a3[:, 2] = b \n",
    "       x = np.linalg.det(a1)/det_a \n",
    "       y =np.linalg.det(a2)/det_a \n",
    "       z= np.linalg.det(a3)/det_a \n",
    "       print('Solving a system of linear algebraic equations by Cramer*s method') \n",
    "       print('x=',x.round(3),'y=',y.round(3),'z=',z.round(3))  \n",
    "    else: \n",
    "        print('Determinant equals zero, the system has no solutions') \n",
    "    return x,y,z \n",
    "kram(a,b) \n",
    "print('Checking the correctness of the solution\\n', np.linalg.solve(a,b).round(3))\n"
   ]
  },
  {
   "cell_type": "code",
   "execution_count": 15,
   "id": "37cdca29-b4f7-4292-90ed-04f598c0ba52",
   "metadata": {},
   "outputs": [
    {
     "name": "stdout",
     "output_type": "stream",
     "text": [
      "[[0 0 0 3]\n",
      " [1 0 4 1]\n",
      " [3 2 3 0]]\n",
      "[0.75 1.5  2.  ]\n",
      "Найнижче середнє значення: 0.75\n"
     ]
    }
   ],
   "source": [
    "a = np.array(np.random.randint(0,5, size=(3,4)))\n",
    "average_rows = np.mean(a, axis=1)\n",
    "minimum = np.min(average_rows)\n",
    "print(a)\n",
    "print(average_rows)\n",
    "\n",
    "print('Найнижче середнє значення:', minimum)\n"
   ]
  },
  {
   "cell_type": "code",
   "execution_count": null,
   "id": "fa24827f-74b2-4f68-88f9-31e5dd5e9c1a",
   "metadata": {},
   "outputs": [],
   "source": []
  }
 ],
 "metadata": {
  "kernelspec": {
   "display_name": "Python 3 (ipykernel)",
   "language": "python",
   "name": "python3"
  },
  "language_info": {
   "codemirror_mode": {
    "name": "ipython",
    "version": 3
   },
   "file_extension": ".py",
   "mimetype": "text/x-python",
   "name": "python",
   "nbconvert_exporter": "python",
   "pygments_lexer": "ipython3",
   "version": "3.11.5"
  }
 },
 "nbformat": 4,
 "nbformat_minor": 5
}
